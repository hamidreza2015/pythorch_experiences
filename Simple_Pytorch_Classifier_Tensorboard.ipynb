{
  "nbformat": 4,
  "nbformat_minor": 0,
  "metadata": {
    "colab": {
      "name": "Simple_Pytorch_Classifier_Tensorboard.ipynb",
      "version": "0.3.2",
      "provenance": [],
      "collapsed_sections": []
    },
    "kernelspec": {
      "name": "python3",
      "display_name": "Python 3"
    },
    "accelerator": "GPU"
  },
  "cells": [
    {
      "cell_type": "code",
      "metadata": {
        "id": "ET5wa4pyyJ2K",
        "colab_type": "code",
        "colab": {}
      },
      "source": [
        "import torch\n",
        "import torchvision\n",
        "from torch.utils.tensorboard import SummaryWriter\n",
        "from torchvision import datasets , transforms\n",
        "import torch.nn.functional as F\n",
        "import torch.nn as nn\n",
        "\n",
        "\n",
        "import torch.optim as optim"
      ],
      "execution_count": 0,
      "outputs": []
    },
    {
      "cell_type": "code",
      "metadata": {
        "id": "ifi22bfF3Duu",
        "colab_type": "code",
        "outputId": "6985647f-9a9a-4bc0-8193-167ffa04fa3f",
        "colab": {
          "base_uri": "https://localhost:8080/",
          "height": 34
        }
      },
      "source": [
        "torch.set_printoptions(linewidth=120)\n",
        "torch.set_grad_enabled(True)"
      ],
      "execution_count": 2,
      "outputs": [
        {
          "output_type": "execute_result",
          "data": {
            "text/plain": [
              "<torch.autograd.grad_mode.set_grad_enabled at 0x7f2702d45c50>"
            ]
          },
          "metadata": {
            "tags": []
          },
          "execution_count": 2
        }
      ]
    },
    {
      "cell_type": "code",
      "metadata": {
        "id": "_XAv0l78zGH3",
        "colab_type": "code",
        "outputId": "1bf2149d-7a01-44a6-fb13-b3e0eff955ce",
        "colab": {
          "base_uri": "https://localhost:8080/",
          "height": 50
        }
      },
      "source": [
        "print(torch.__version__)\n",
        "print(torchvision.__version__)"
      ],
      "execution_count": 0,
      "outputs": [
        {
          "output_type": "stream",
          "text": [
            "1.1.0\n",
            "0.3.0\n"
          ],
          "name": "stdout"
        }
      ]
    },
    {
      "cell_type": "code",
      "metadata": {
        "id": "TrU5KZnW901h",
        "colab_type": "code",
        "outputId": "7d851449-6927-417e-d68d-f3dc0f6e6fe2",
        "colab": {
          "base_uri": "https://localhost:8080/",
          "height": 34
        }
      },
      "source": [
        "device = torch.device(\"cuda\" if torch.cuda.is_available() else \"cpu\")\n",
        "print(device)"
      ],
      "execution_count": 3,
      "outputs": [
        {
          "output_type": "stream",
          "text": [
            "cuda\n"
          ],
          "name": "stdout"
        }
      ]
    },
    {
      "cell_type": "code",
      "metadata": {
        "id": "dYJTLIV83LA7",
        "colab_type": "code",
        "colab": {}
      },
      "source": [
        "def get_num_correct(preds, labels):\n",
        "    return preds.argmax(dim=1).eq(labels).sum().item()"
      ],
      "execution_count": 0,
      "outputs": []
    },
    {
      "cell_type": "code",
      "metadata": {
        "id": "TQ1kvaLc3USQ",
        "colab_type": "code",
        "colab": {
          "base_uri": "https://localhost:8080/",
          "height": 272
        },
        "outputId": "16692da7-cb0c-42e1-e274-f4987978d4ec"
      },
      "source": [
        "train_set = torchvision.datasets.FashionMNIST(\n",
        "        root = './data',\n",
        "        train=True,\n",
        "        download=True,\n",
        "        transform=transforms.Compose([\n",
        "                transforms.ToTensor()\n",
        "                ])\n",
        "        )"
      ],
      "execution_count": 5,
      "outputs": [
        {
          "output_type": "stream",
          "text": [
            "  0%|          | 0/26421880 [00:00<?, ?it/s]"
          ],
          "name": "stderr"
        },
        {
          "output_type": "stream",
          "text": [
            "Downloading http://fashion-mnist.s3-website.eu-central-1.amazonaws.com/train-images-idx3-ubyte.gz to ./data/FashionMNIST/raw/train-images-idx3-ubyte.gz\n"
          ],
          "name": "stdout"
        },
        {
          "output_type": "stream",
          "text": [
            "26427392it [00:00, 41172558.88it/s]                              \n"
          ],
          "name": "stderr"
        },
        {
          "output_type": "stream",
          "text": [
            "Extracting ./data/FashionMNIST/raw/train-images-idx3-ubyte.gz\n"
          ],
          "name": "stdout"
        },
        {
          "output_type": "stream",
          "text": [
            "32768it [00:00, 564009.46it/s]\n",
            "  0%|          | 16384/4422102 [00:00<00:29, 148366.12it/s]"
          ],
          "name": "stderr"
        },
        {
          "output_type": "stream",
          "text": [
            "Downloading http://fashion-mnist.s3-website.eu-central-1.amazonaws.com/train-labels-idx1-ubyte.gz to ./data/FashionMNIST/raw/train-labels-idx1-ubyte.gz\n",
            "Extracting ./data/FashionMNIST/raw/train-labels-idx1-ubyte.gz\n",
            "Downloading http://fashion-mnist.s3-website.eu-central-1.amazonaws.com/t10k-images-idx3-ubyte.gz to ./data/FashionMNIST/raw/t10k-images-idx3-ubyte.gz\n"
          ],
          "name": "stdout"
        },
        {
          "output_type": "stream",
          "text": [
            "4423680it [00:00, 18675932.42it/s]                           \n",
            "8192it [00:00, 99084.81it/s]\n"
          ],
          "name": "stderr"
        },
        {
          "output_type": "stream",
          "text": [
            "Extracting ./data/FashionMNIST/raw/t10k-images-idx3-ubyte.gz\n",
            "Downloading http://fashion-mnist.s3-website.eu-central-1.amazonaws.com/t10k-labels-idx1-ubyte.gz to ./data/FashionMNIST/raw/t10k-labels-idx1-ubyte.gz\n",
            "Extracting ./data/FashionMNIST/raw/t10k-labels-idx1-ubyte.gz\n",
            "Processing...\n",
            "Done!\n"
          ],
          "name": "stdout"
        }
      ]
    },
    {
      "cell_type": "code",
      "metadata": {
        "id": "Q2Lheb4c3kZ1",
        "colab_type": "code",
        "colab": {}
      },
      "source": [
        "train_loader = torch.utils.data.DataLoader(train_set,\n",
        "                                           batch_size=64,\n",
        "                                           shuffle=True)"
      ],
      "execution_count": 0,
      "outputs": []
    },
    {
      "cell_type": "code",
      "metadata": {
        "id": "0rEwo_zO3obC",
        "colab_type": "code",
        "colab": {}
      },
      "source": [
        "writer = SummaryWriter()"
      ],
      "execution_count": 0,
      "outputs": []
    },
    {
      "cell_type": "code",
      "metadata": {
        "id": "UIK-pa9v3zqK",
        "colab_type": "code",
        "colab": {}
      },
      "source": [
        "class Network(nn.Module):\n",
        "    def __init__(self):\n",
        "        super(Network, self).__init__()\n",
        "        self.conv1 = nn.Conv2d(in_channels=1, out_channels=6, kernel_size=5)  \n",
        "        self.conv2 = nn.Conv2d(in_channels=6, out_channels=12, kernel_size=5)  \n",
        "        self.fc1 = nn.Linear(in_features=4*4*12, out_features=120)\n",
        "        self.fc2 = nn.Linear(in_features=120, out_features=60)\n",
        "        self.out = nn.Linear(in_features=60, out_features=10)\n",
        "\n",
        "    def forward(self, x):\n",
        "        \n",
        "        x = F.relu(self.conv1(x))\n",
        "        x = F.max_pool2d(x, kernel_size=2, stride=2)\n",
        "        \n",
        "        x = F.relu(self.conv2(x))\n",
        "        x = F.max_pool2d(x, kernel_size=2, stride=2)\n",
        "        \n",
        "        x = x.flatten(start_dim=1)\n",
        "        x = F.relu(self.fc1(x))\n",
        "        \n",
        "        x = F.relu(self.fc2(x))\n",
        "        \n",
        "        x = self.out(x)\n",
        "        \n",
        "        return x"
      ],
      "execution_count": 0,
      "outputs": []
    },
    {
      "cell_type": "code",
      "metadata": {
        "id": "QaRlY6ZB3wHj",
        "colab_type": "code",
        "colab": {}
      },
      "source": [
        "network = Network().to(device)\n",
        "optimizer = optim.SGD(network.parameters(), lr=0.01)"
      ],
      "execution_count": 0,
      "outputs": []
    },
    {
      "cell_type": "code",
      "metadata": {
        "id": "DIe4MRvz3-Qc",
        "colab_type": "code",
        "outputId": "fb9b06b5-3be1-415e-c6b8-382ab605c91b",
        "colab": {
          "base_uri": "https://localhost:8080/",
          "height": 353
        }
      },
      "source": [
        "for epoch in range(20):\n",
        "    \n",
        "    total_loss = 0\n",
        "    total_correct = 0\n",
        "    \n",
        "    for images, labels in train_loader:\n",
        "      \n",
        "        images = images.to(device)\n",
        "        labels = labels.to(device)\n",
        "      \n",
        "        \n",
        "        preds = network(images)\n",
        "        loss = F.cross_entropy(preds ,labels)\n",
        "        \n",
        "        optimizer.zero_grad()\n",
        "        loss.backward()\n",
        "        optimizer.step()\n",
        "        \n",
        "        total_loss += loss.item()\n",
        "        total_correct += get_num_correct(preds, labels)\n",
        "    \n",
        "    writer.add_scalar('Loss',total_loss, epoch)\n",
        "    writer.add_scalar('Number Correct',total_correct, epoch)\n",
        "    writer.add_scalar('Accuracy', total_correct/len(train_set) , epoch)\n",
        "    \n",
        "    writer.add_histogram('conv1.bias', network.conv1.bias , epoch)\n",
        "    writer.add_histogram('conv1.weight', network.conv1.weight , epoch)\n",
        "    writer.add_histogram('conv1.weight.grad', network.conv1.weight.grad ,epoch)\n",
        "    \n",
        "    \n",
        "    print('epoch: ',epoch ,'  total_correct: ',total_correct , 'total_loss',total_loss )\n",
        "\n",
        "\n",
        "writer.close()"
      ],
      "execution_count": 11,
      "outputs": [
        {
          "output_type": "stream",
          "text": [
            "epoch:  0   total_correct:  10111 total_loss 2106.5164833068848\n",
            "epoch:  1   total_correct:  37289 total_loss 931.2566511631012\n",
            "epoch:  2   total_correct:  42968 total_loss 696.8557475507259\n",
            "epoch:  3   total_correct:  45305 total_loss 607.394151777029\n",
            "epoch:  4   total_correct:  46769 total_loss 552.4441986083984\n",
            "epoch:  5   total_correct:  47782 total_loss 513.5090279579163\n",
            "epoch:  6   total_correct:  48563 total_loss 486.10691244900227\n",
            "epoch:  7   total_correct:  49081 total_loss 464.61606496572495\n",
            "epoch:  8   total_correct:  49477 total_loss 445.9686411470175\n",
            "epoch:  9   total_correct:  49824 total_loss 431.4088762551546\n",
            "epoch:  10   total_correct:  50193 total_loss 417.9538874179125\n",
            "epoch:  11   total_correct:  50449 total_loss 406.69760762155056\n",
            "epoch:  12   total_correct:  50676 total_loss 396.4448794722557\n",
            "epoch:  13   total_correct:  50925 total_loss 385.40708957612514\n",
            "epoch:  14   total_correct:  51179 total_loss 376.37674854695797\n",
            "epoch:  15   total_correct:  51386 total_loss 367.8241241425276\n",
            "epoch:  16   total_correct:  51541 total_loss 360.3554298132658\n",
            "epoch:  17   total_correct:  51675 total_loss 353.4511711746454\n",
            "epoch:  18   total_correct:  51893 total_loss 346.07623582333326\n",
            "epoch:  19   total_correct:  51996 total_loss 340.88887825608253\n"
          ],
          "name": "stdout"
        }
      ]
    }
  ]
}