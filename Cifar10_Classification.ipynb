{
  "nbformat": 4,
  "nbformat_minor": 0,
  "metadata": {
    "colab": {
      "name": "Cifar10_Classification.ipynb",
      "version": "0.3.2",
      "provenance": [],
      "include_colab_link": true
    },
    "language_info": {
      "codemirror_mode": {
        "name": "ipython",
        "version": 3
      },
      "file_extension": ".py",
      "mimetype": "text/x-python",
      "name": "python",
      "nbconvert_exporter": "python",
      "pygments_lexer": "ipython3",
      "version": "3.7.3"
    },
    "kernelspec": {
      "name": "python3",
      "display_name": "Python 3"
    },
    "accelerator": "GPU"
  },
  "cells": [
    {
      "cell_type": "markdown",
      "metadata": {
        "id": "view-in-github",
        "colab_type": "text"
      },
      "source": [
        "<a href=\"https://colab.research.google.com/github/hamidreza2015/pythorch_experiences/blob/master/Cifar10_Classification.ipynb\" target=\"_parent\"><img src=\"https://colab.research.google.com/assets/colab-badge.svg\" alt=\"Open In Colab\"/></a>"
      ]
    },
    {
      "cell_type": "code",
      "metadata": {
        "colab_type": "code",
        "id": "XoZynJvNOqox",
        "colab": {}
      },
      "source": [
        "import torchvision\n",
        "import torchvision.transforms as transforms\n",
        "\n",
        "from torch.utils.data import Dataset, DataLoader\n",
        "import torchvision.models as models\n",
        "from torchvision import datasets, transforms\n",
        "import torch.nn.functional as F\n",
        "from torch.utils.data.sampler import SubsetRandomSampler\n",
        "import numpy as np\n",
        "\n",
        "from tqdm import tqdm\n",
        "\n",
        "import torch\n",
        "import torch.nn as nn\n",
        "import torch.optim as optim\n",
        "from torch.autograd import Variable"
      ],
      "execution_count": 0,
      "outputs": []
    },
    {
      "cell_type": "code",
      "metadata": {
        "colab_type": "code",
        "id": "Yqy-nkngQg6j",
        "outputId": "7a8c0d3b-ab59-4b23-c02d-3dff3830357c",
        "colab": {
          "base_uri": "https://localhost:8080/",
          "height": 50
        }
      },
      "source": [
        "# Train, Validate, Test. Heavily inspired by Kevinzakka https://github.com/kevinzakka/DenseNet/blob/master/data_loader.py\n",
        "\n",
        "normalize = transforms.Normalize(mean=[0.485, 0.456, 0.406],\n",
        "                                 std=[0.229, 0.224, 0.225])\n",
        "\n",
        "\n",
        "\n",
        "# define transforms\n",
        "valid_transform = transforms.Compose([\n",
        "        transforms.ToTensor(),\n",
        "        normalize\n",
        "])\n",
        "\n",
        "train_transform = transforms.Compose([\n",
        "    transforms.RandomCrop(32, padding=4),\n",
        "    transforms.RandomHorizontalFlip(),\n",
        "    transforms.ToTensor(),\n",
        "    normalize\n",
        "])\n",
        "\n",
        "\n",
        "# load the dataset\n",
        "train_dataset = datasets.CIFAR10(root='./data', train=True, \n",
        "            download=True, transform=train_transform)\n",
        "\n",
        "test_dataset = datasets.CIFAR10(root='./data', train=True, \n",
        "            download=True, transform=valid_transform)"
      ],
      "execution_count": 9,
      "outputs": [
        {
          "output_type": "stream",
          "text": [
            "Files already downloaded and verified\n",
            "Files already downloaded and verified\n"
          ],
          "name": "stdout"
        }
      ]
    },
    {
      "cell_type": "code",
      "metadata": {
        "colab_type": "code",
        "id": "nK_2yRM0RJAG",
        "colab": {}
      },
      "source": [
        "batch_size = 64\n",
        "\n",
        "valid_size=0.1\n",
        "\n",
        "num_train = len(train_dataset)\n",
        "indices = list(range(num_train))\n",
        "split = int(np.floor(valid_size * num_train))\n",
        "\n",
        "\n",
        "np.random.seed(42)\n",
        "np.random.shuffle(indices)\n",
        "\n",
        "train_idx, valid_idx = indices[split:], indices[:split]\n",
        "\n",
        "\n",
        "train_sampler = SubsetRandomSampler(train_idx)\n",
        "valid_sampler = SubsetRandomSampler(valid_idx)\n",
        "\n",
        "\n",
        "train_loader = torch.utils.data.DataLoader(train_dataset, \n",
        "                batch_size=batch_size, sampler=train_sampler)\n",
        "\n",
        "valid_loader = torch.utils.data.DataLoader(valid_dataset, \n",
        "                batch_size=batch_size, sampler=valid_sampler)\n"
      ],
      "execution_count": 0,
      "outputs": []
    },
    {
      "cell_type": "code",
      "metadata": {
        "id": "Asg_Qm0mrQOy",
        "colab_type": "code",
        "colab": {}
      },
      "source": [
        "# define the CNN architecture\n",
        "class Net(nn.Module):\n",
        "    def __init__(self):\n",
        "        super(Net, self).__init__()\n",
        "        # convolutional layer\n",
        "        self.conv1 = nn.Conv2d(3, 16, 3, padding=1)\n",
        "        self.conv2 = nn.Conv2d(16, 32, 3, padding=1)\n",
        "        self.conv3 = nn.Conv2d(32, 64, 3, padding=1)\n",
        "        # max pooling layer\n",
        "        self.pool = nn.MaxPool2d(2, 2)\n",
        "        # fully connected layers\n",
        "        self.fc1 = nn.Linear(64 * 4 * 4, 512)\n",
        "        self.fc2 = nn.Linear(512, 64)\n",
        "        self.fc3 = nn.Linear(64, 10)\n",
        "        # dropout\n",
        "        self.dropout = nn.Dropout(p=.5)\n",
        "\n",
        "    def forward(self, x):\n",
        "        # add sequence of convolutional and max pooling layers\n",
        "        x = self.pool(F.relu(self.conv1(x)))\n",
        "        x = self.pool(F.relu(self.conv2(x)))\n",
        "        x = self.pool(F.relu(self.conv3(x)))\n",
        "        # flattening\n",
        "        x = x.view(-1, 64 * 4 * 4)\n",
        "        # fully connected layers\n",
        "        x = self.dropout(F.relu(self.fc1(x)))\n",
        "        x = self.dropout(F.relu(self.fc2(x)))\n",
        "        x = self.fc3(x)\n",
        "        return x"
      ],
      "execution_count": 0,
      "outputs": []
    },
    {
      "cell_type": "code",
      "metadata": {
        "id": "gtTJaurgrQO0",
        "colab_type": "code",
        "colab": {
          "base_uri": "https://localhost:8080/",
          "height": 185
        },
        "outputId": "3d43220e-c7e1-41dc-e7df-98eed5c01cc7"
      },
      "source": [
        "# create a complete CNN\n",
        "model = Net()\n",
        "print(model)\n",
        "\n",
        "# move tensors to GPU if CUDA is available\n",
        "if torch.cuda.is_available():\n",
        "    model.cuda()"
      ],
      "execution_count": 5,
      "outputs": [
        {
          "output_type": "stream",
          "text": [
            "Net(\n",
            "  (conv1): Conv2d(3, 16, kernel_size=(3, 3), stride=(1, 1), padding=(1, 1))\n",
            "  (conv2): Conv2d(16, 32, kernel_size=(3, 3), stride=(1, 1), padding=(1, 1))\n",
            "  (conv3): Conv2d(32, 64, kernel_size=(3, 3), stride=(1, 1), padding=(1, 1))\n",
            "  (pool): MaxPool2d(kernel_size=2, stride=2, padding=0, dilation=1, ceil_mode=False)\n",
            "  (fc1): Linear(in_features=1024, out_features=512, bias=True)\n",
            "  (fc2): Linear(in_features=512, out_features=64, bias=True)\n",
            "  (fc3): Linear(in_features=64, out_features=10, bias=True)\n",
            "  (dropout): Dropout(p=0.5)\n",
            ")\n"
          ],
          "name": "stdout"
        }
      ]
    },
    {
      "cell_type": "code",
      "metadata": {
        "colab_type": "code",
        "id": "28qXoiQZS5qj",
        "colab": {}
      },
      "source": [
        "# loss and optimizer\n",
        "criterion = nn.CrossEntropyLoss()\n",
        "optimizer = optim.SGD(model.parameters(), lr=0.01, momentum=0.9)\n",
        "scheduler = optim.lr_scheduler.StepLR(optimizer, step_size=9, gamma=0.9)"
      ],
      "execution_count": 0,
      "outputs": []
    },
    {
      "cell_type": "code",
      "metadata": {
        "colab_type": "code",
        "id": "kl0M610RTWnl",
        "outputId": "3d5526a0-7ba9-4a5e-8e39-36c317692cac",
        "colab": {
          "base_uri": "https://localhost:8080/",
          "height": 605
        }
      },
      "source": [
        "# number of epochs to train the model\n",
        "n_epochs = 20 # you may increase this number to train a final model\n",
        "\n",
        "valid_loss_min = np.Inf # track change in validation loss\n",
        "\n",
        "for epoch in range(1, n_epochs+1):\n",
        "\n",
        "    # keep track of training and validation loss\n",
        "    train_loss = 0.0\n",
        "    valid_loss = 0.0\n",
        "    \n",
        "    ###################\n",
        "    # train the model #\n",
        "    ###################\n",
        "    scheduler.step()\n",
        "    model.train()\n",
        "    for data, target in train_loader:\n",
        "        # move tensors to GPU if CUDA is available\n",
        "        if torch.cuda.is_available():\n",
        "            data, target = data.cuda(), target.cuda()\n",
        "        # clear the gradients of all optimized variables\n",
        "        optimizer.zero_grad()\n",
        "        # forward pass: compute predicted outputs by passing inputs to the model\n",
        "        output = model(data)\n",
        "        # calculate the batch loss\n",
        "        loss = criterion(output, target)\n",
        "        # backward pass: compute gradient of the loss with respect to model parameters\n",
        "        loss.backward()\n",
        "        # perform a single optimization step (parameter update)\n",
        "        optimizer.step()\n",
        "        # update training loss\n",
        "        train_loss += loss.item()*data.size(0)\n",
        "        \n",
        "    ######################    \n",
        "    # validate the model #\n",
        "    ######################\n",
        "    model.eval()\n",
        "    for data, target in valid_loader:\n",
        "        # move tensors to GPU if CUDA is available\n",
        "        if torch.cuda.is_available():\n",
        "            data, target = data.cuda(), target.cuda()\n",
        "        # forward pass: compute predicted outputs by passing inputs to the model\n",
        "        output = model(data)\n",
        "        # calculate the batch loss\n",
        "        loss = criterion(output, target)\n",
        "        # update average validation loss \n",
        "        valid_loss += loss.item()*data.size(0)\n",
        "    \n",
        "    # calculate average losses\n",
        "    train_loss = train_loss/len(train_loader.dataset)\n",
        "    valid_loss = valid_loss/len(valid_loader.dataset)\n",
        "        \n",
        "    # print training/validation statistics \n",
        "    print('Epoch: {} \\tTraining Loss: {:.6f} \\tValidation Loss: {:.6f}'.format(\n",
        "        epoch, train_loss, valid_loss))\n",
        "    \n",
        "    # save model if validation loss has decreased\n",
        "    if valid_loss <= valid_loss_min:\n",
        "        print('Validation loss decreased ({:.6f} --> {:.6f}).  Saving model ...'.format(\n",
        "        valid_loss_min,\n",
        "        valid_loss))\n",
        "        torch.save(model.state_dict(), 'model_cifar.pt')\n",
        "        valid_loss_min = valid_loss"
      ],
      "execution_count": 7,
      "outputs": [
        {
          "output_type": "stream",
          "text": [
            "Epoch: 1 \tTraining Loss: 1.818992 \tValidation Loss: 0.177007\n",
            "Validation loss decreased (inf --> 0.177007).  Saving model ...\n",
            "Epoch: 2 \tTraining Loss: 1.504585 \tValidation Loss: 0.142381\n",
            "Validation loss decreased (0.177007 --> 0.142381).  Saving model ...\n",
            "Epoch: 3 \tTraining Loss: 1.345269 \tValidation Loss: 0.130863\n",
            "Validation loss decreased (0.142381 --> 0.130863).  Saving model ...\n",
            "Epoch: 4 \tTraining Loss: 1.231533 \tValidation Loss: 0.116452\n",
            "Validation loss decreased (0.130863 --> 0.116452).  Saving model ...\n",
            "Epoch: 5 \tTraining Loss: 1.149606 \tValidation Loss: 0.105990\n",
            "Validation loss decreased (0.116452 --> 0.105990).  Saving model ...\n",
            "Epoch: 6 \tTraining Loss: 1.078062 \tValidation Loss: 0.101199\n",
            "Validation loss decreased (0.105990 --> 0.101199).  Saving model ...\n",
            "Epoch: 7 \tTraining Loss: 1.041868 \tValidation Loss: 0.092042\n",
            "Validation loss decreased (0.101199 --> 0.092042).  Saving model ...\n",
            "Epoch: 8 \tTraining Loss: 0.998983 \tValidation Loss: 0.095779\n",
            "Epoch: 9 \tTraining Loss: 0.954390 \tValidation Loss: 0.087619\n",
            "Validation loss decreased (0.092042 --> 0.087619).  Saving model ...\n",
            "Epoch: 10 \tTraining Loss: 0.929044 \tValidation Loss: 0.086742\n",
            "Validation loss decreased (0.087619 --> 0.086742).  Saving model ...\n",
            "Epoch: 11 \tTraining Loss: 0.913388 \tValidation Loss: 0.087585\n",
            "Epoch: 12 \tTraining Loss: 0.883205 \tValidation Loss: 0.082801\n",
            "Validation loss decreased (0.086742 --> 0.082801).  Saving model ...\n",
            "Epoch: 13 \tTraining Loss: 0.874034 \tValidation Loss: 0.082034\n",
            "Validation loss decreased (0.082801 --> 0.082034).  Saving model ...\n",
            "Epoch: 14 \tTraining Loss: 0.852226 \tValidation Loss: 0.079155\n",
            "Validation loss decreased (0.082034 --> 0.079155).  Saving model ...\n",
            "Epoch: 15 \tTraining Loss: 0.840433 \tValidation Loss: 0.082131\n",
            "Epoch: 16 \tTraining Loss: 0.833581 \tValidation Loss: 0.074961\n",
            "Validation loss decreased (0.079155 --> 0.074961).  Saving model ...\n",
            "Epoch: 17 \tTraining Loss: 0.819469 \tValidation Loss: 0.074929\n",
            "Validation loss decreased (0.074961 --> 0.074929).  Saving model ...\n",
            "Epoch: 18 \tTraining Loss: 0.798576 \tValidation Loss: 0.073469\n",
            "Validation loss decreased (0.074929 --> 0.073469).  Saving model ...\n",
            "Epoch: 19 \tTraining Loss: 0.784806 \tValidation Loss: 0.077084\n",
            "Epoch: 20 \tTraining Loss: 0.779366 \tValidation Loss: 0.076467\n"
          ],
          "name": "stdout"
        }
      ]
    },
    {
      "cell_type": "code",
      "metadata": {
        "id": "BYBIIn4attEY",
        "colab_type": "code",
        "colab": {}
      },
      "source": [
        "test_loader = torch.utils.data.DataLoader(test_dataset, \n",
        "                                          batch_size=64, \n",
        "                                          shuffle=True)"
      ],
      "execution_count": 0,
      "outputs": []
    },
    {
      "cell_type": "code",
      "metadata": {
        "id": "FQIeowPTuQgD",
        "colab_type": "code",
        "colab": {
          "base_uri": "https://localhost:8080/",
          "height": 34
        },
        "outputId": "502e454b-a5cb-401e-c234-7e829853a7fa"
      },
      "source": [
        "model.load_state_dict(torch.load('model_cifar.pt'))"
      ],
      "execution_count": 11,
      "outputs": [
        {
          "output_type": "execute_result",
          "data": {
            "text/plain": [
              "IncompatibleKeys(missing_keys=[], unexpected_keys=[])"
            ]
          },
          "metadata": {
            "tags": []
          },
          "execution_count": 11
        }
      ]
    },
    {
      "cell_type": "code",
      "metadata": {
        "id": "rTvAvO53vZOS",
        "colab_type": "code",
        "colab": {}
      },
      "source": [
        "classDict = {'plane':0, 'car':1, 'bird':2, 'cat':3, 'deer':4, 'dog':5, 'frog':6, 'horse':7, 'ship':8, 'truck':9}\n",
        "class_selected_ = list(classDict.keys())"
      ],
      "execution_count": 0,
      "outputs": []
    },
    {
      "cell_type": "code",
      "metadata": {
        "id": "Iy3CFfVwuU49",
        "colab_type": "code",
        "colab": {
          "base_uri": "https://localhost:8080/",
          "height": 252
        },
        "outputId": "88c43b12-e977-4e41-fdb3-4b215d9d1cd9"
      },
      "source": [
        "test_loss = 0.0 \n",
        "class_correct = list(0. for i in range(10))\n",
        "class_total = list(0. for i in range(10))\n",
        "\n",
        "model.eval()\n",
        "for data , target in test_loader:\n",
        "    \n",
        "    if torch.cuda.is_available():\n",
        "        data , target = data.cuda() , target.cuda()\n",
        "        \n",
        "    output = model(data)\n",
        "    \n",
        "    loss = criterion(output , target)\n",
        "    #print(loss)\n",
        "    \n",
        "    test_loss += loss.item()*data.size(0)\n",
        "    #print(test_loss)\n",
        "    \n",
        "    _, pred = torch.max(output, 1) \n",
        "    \n",
        "    correct_tensor = pred.eq(target.data.view_as(pred))\n",
        "    correct = np.squeeze(correct_tensor.numpy()) if not torch.cuda.is_available() else np.squeeze(correct_tensor.cpu().numpy())\n",
        "    \n",
        "    for i in range(len(correct)):\n",
        "        label = target.data[i]\n",
        "        class_correct[label] += correct[i].item()\n",
        "        class_total[label] += 1\n",
        "\n",
        "# average test loss\n",
        "test_loss = test_loss/len(test_loader.dataset)\n",
        "print('Test Loss: {:.6f}\\n'.format(test_loss))\n",
        "\n",
        "\n",
        "for i in range(10):\n",
        "    if class_total[i] > 0:\n",
        "        print('Test Accuracy of %5s: %2d%% (%2d/%2d)' % (\n",
        "            class_selected_[i], 100 * class_correct[i] / class_total[i],\n",
        "            np.sum(class_correct[i]), np.sum(class_total[i])))\n",
        "    else:\n",
        "        print('Test Accuracy of %5s: N/A (no training examples)' % (classes[i]))\n",
        "\n",
        "print('\\nTest Accuracy (Overall): %2d%% (%2d/%2d)' % (\n",
        "    100. * np.sum(class_correct) / np.sum(class_total),\n",
        "    np.sum(class_correct), np.sum(class_total)))"
      ],
      "execution_count": 15,
      "outputs": [
        {
          "output_type": "stream",
          "text": [
            "Test Loss: 0.692182\n",
            "\n",
            "Test Accuracy of plane: 86% (4348/5000)\n",
            "Test Accuracy of   car: 87% (4377/5000)\n",
            "Test Accuracy of  bird: 54% (2735/5000)\n",
            "Test Accuracy of   cat: 59% (2984/5000)\n",
            "Test Accuracy of  deer: 77% (3890/5000)\n",
            "Test Accuracy of   dog: 64% (3214/5000)\n",
            "Test Accuracy of  frog: 76% (3849/5000)\n",
            "Test Accuracy of horse: 76% (3833/5000)\n",
            "Test Accuracy of  ship: 86% (4323/5000)\n",
            "Test Accuracy of truck: 90% (4514/5000)\n",
            "\n",
            "Test Accuracy (Overall): 76% (38067/50000)\n"
          ],
          "name": "stdout"
        }
      ]
    },
    {
      "cell_type": "code",
      "metadata": {
        "id": "eTYIP4V5wPbq",
        "colab_type": "code",
        "colab": {}
      },
      "source": [
        ""
      ],
      "execution_count": 0,
      "outputs": []
    }
  ]
}